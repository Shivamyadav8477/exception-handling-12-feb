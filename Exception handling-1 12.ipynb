{
 "cells": [
  {
   "cell_type": "code",
   "execution_count": null,
   "id": "2015fbb9-a17a-4aec-974f-1a926f8c74d0",
   "metadata": {},
   "outputs": [],
   "source": [
    "Q1. What is an Exception in python? Write the difference between Exceptions and syntx errors."
   ]
  },
  {
   "cell_type": "code",
   "execution_count": null,
   "id": "08e55f04-3416-4479-a46a-d3f3de005577",
   "metadata": {},
   "outputs": [],
   "source": [
    "Exceptions are raised when an error or unexpected condition occurs while the program is running. When an exception is raised, the program can handle it using exception handling mechanisms like try, except, finally, and raise."
   ]
  },
  {
   "cell_type": "code",
   "execution_count": 2,
   "id": "80728191-601b-4a36-9949-be83fb5c2388",
   "metadata": {},
   "outputs": [
    {
     "name": "stdout",
     "output_type": "stream",
     "text": [
      "Exception: division by zero\n"
     ]
    }
   ],
   "source": [
    "\n",
    "try:\n",
    "    result = 10 / 0  \n",
    "except ZeroDivisionError as e:\n",
    "    print(f\"Exception: {e}\")\n"
   ]
  },
  {
   "cell_type": "code",
   "execution_count": null,
   "id": "1d008251-3c17-403f-8326-eb34e4c2a324",
   "metadata": {},
   "outputs": [],
   "source": [
    "Q2 What happens when an  exception is not handled? Explain with an example."
   ]
  },
  {
   "cell_type": "code",
   "execution_count": null,
   "id": "10c06d9e-305a-4321-9ed2-543b67c3743c",
   "metadata": {},
   "outputs": [],
   "source": [
    "When an exception is not handled in a Python program, it results in the program terminating abruptly and displaying an error message, including a traceback that shows where the exception occurred. This can be disruptive and may not provide a graceful way to recover from errors. Instead of terminating unexpectedly, it's generally a good practice to handle exceptions to provide more controlled and informative responses to unexpected conditions."
   ]
  },
  {
   "cell_type": "code",
   "execution_count": null,
   "id": "b98a5a4a-ba46-473a-a7d8-3c803bc91bb0",
   "metadata": {},
   "outputs": [],
   "source": [
    "Here's an example to illustrate what happens when an exception is not handled:"
   ]
  },
  {
   "cell_type": "code",
   "execution_count": 3,
   "id": "bbfb873b-08b1-41bf-8b12-30e1c7f012b0",
   "metadata": {},
   "outputs": [
    {
     "ename": "ZeroDivisionError",
     "evalue": "division by zero",
     "output_type": "error",
     "traceback": [
      "\u001b[0;31m---------------------------------------------------------------------------\u001b[0m",
      "\u001b[0;31mZeroDivisionError\u001b[0m                         Traceback (most recent call last)",
      "Cell \u001b[0;32mIn [3], line 1\u001b[0m\n\u001b[0;32m----> 1\u001b[0m result \u001b[38;5;241m=\u001b[39m \u001b[38;5;241;43m10\u001b[39;49m\u001b[43m \u001b[49m\u001b[38;5;241;43m/\u001b[39;49m\u001b[43m \u001b[49m\u001b[38;5;241;43m0\u001b[39;49m  \n\u001b[1;32m      2\u001b[0m \u001b[38;5;28mprint\u001b[39m(\u001b[38;5;124m\"\u001b[39m\u001b[38;5;124mThis line will not be executed.\u001b[39m\u001b[38;5;124m\"\u001b[39m)\n",
      "\u001b[0;31mZeroDivisionError\u001b[0m: division by zero"
     ]
    }
   ],
   "source": [
    "\n",
    "result = 10 / 0  \n",
    "print(\"This line will not be executed.\")\n"
   ]
  },
  {
   "cell_type": "code",
   "execution_count": 4,
   "id": "1d8979cf-9a1a-47c4-8766-e381023fd854",
   "metadata": {},
   "outputs": [
    {
     "name": "stdout",
     "output_type": "stream",
     "text": [
      "Exception: division by zero\n",
      "Division by zero is not allowed.\n"
     ]
    }
   ],
   "source": [
    "# Handling the ZeroDivisionError exception\n",
    "try:\n",
    "    result = 10 / 0\n",
    "except ZeroDivisionError as e:\n",
    "    print(f\"Exception: {e}\")\n",
    "    print(\"Division by zero is not allowed.\")\n"
   ]
  },
  {
   "cell_type": "code",
   "execution_count": null,
   "id": "54acde0f-c411-4030-ac7d-c5ad91927c84",
   "metadata": {},
   "outputs": [],
   "source": [
    "Q3. Which Python statements are used to catchand handle exceptions? Explain with an example"
   ]
  },
  {
   "cell_type": "code",
   "execution_count": 5,
   "id": "5660cefc-7594-4208-b717-86e59ed93222",
   "metadata": {},
   "outputs": [
    {
     "ename": "IndentationError",
     "evalue": "expected an indented block after 'try' statement on line 1 (807428366.py, line 3)",
     "output_type": "error",
     "traceback": [
      "\u001b[0;36m  Cell \u001b[0;32mIn [5], line 3\u001b[0;36m\u001b[0m\n\u001b[0;31m    except ExceptionType as exception_variable:\u001b[0m\n\u001b[0m    ^\u001b[0m\n\u001b[0;31mIndentationError\u001b[0m\u001b[0;31m:\u001b[0m expected an indented block after 'try' statement on line 1\n"
     ]
    }
   ],
   "source": [
    "try:\n",
    "    # Code that may raise an exception\n",
    "except ExceptionType as exception_variable:\n",
    "    # Code to handle the exception\n",
    "\n"
   ]
  },
  {
   "cell_type": "code",
   "execution_count": 6,
   "id": "31a8a950-aa5b-408b-8cec-97c8d83d9e46",
   "metadata": {},
   "outputs": [
    {
     "name": "stdout",
     "output_type": "stream",
     "text": [
      "Exception: division by zero\n",
      "Division by zero is not allowed.\n"
     ]
    }
   ],
   "source": [
    "# Example: Catching and handling a ZeroDivisionError\n",
    "try:\n",
    "    numerator = 10\n",
    "    denominator = 0\n",
    "    result = numerator / denominator  # This will raise a ZeroDivisionError\n",
    "except ZeroDivisionError as e:\n",
    "    print(f\"Exception: {e}\")\n",
    "    print(\"Division by zero is not allowed.\")\n"
   ]
  },
  {
   "cell_type": "code",
   "execution_count": null,
   "id": "8f6e8378-ab96-4b56-b9b4-dd0b091b429f",
   "metadata": {},
   "outputs": [],
   "source": [
    "By using try and except blocks, you can gracefully handle exceptions, prevent your program from crashing, and take appropriate actions to recover or provide error messages to the user."
   ]
  },
  {
   "cell_type": "code",
   "execution_count": null,
   "id": "27b398ee-0c20-4994-932e-1228e5cef367",
   "metadata": {},
   "outputs": [],
   "source": [
    "Q4. Explain with an example:\n",
    "a.    try and else\n",
    "b.    finally\n",
    "c.    raise"
   ]
  },
  {
   "cell_type": "code",
   "execution_count": 7,
   "id": "75427548-506b-4101-aac3-685c6b19277a",
   "metadata": {},
   "outputs": [
    {
     "name": "stdout",
     "output_type": "stream",
     "text": [
      "Result: 5.0\n",
      "No exception occurred.\n"
     ]
    }
   ],
   "source": [
    "try:\n",
    "    x = 10\n",
    "    y = 2\n",
    "    result = x / y\n",
    "except ZeroDivisionError as e:\n",
    "    print(f\"Exception: {e}\")\n",
    "else:\n",
    "    print(f\"Result: {result}\")\n",
    "    print(\"No exception occurred.\")\n"
   ]
  },
  {
   "cell_type": "code",
   "execution_count": 8,
   "id": "21a12c08-3bea-4a65-a7db-ebf0932f6a7e",
   "metadata": {},
   "outputs": [
    {
     "name": "stdout",
     "output_type": "stream",
     "text": [
      "Exception: division by zero\n",
      "Finally block executed.\n"
     ]
    }
   ],
   "source": [
    "try:\n",
    "    x = 10\n",
    "    y = 0\n",
    "    result = x / y  # This will raise a ZeroDivisionError\n",
    "except ZeroDivisionError as e:\n",
    "    print(f\"Exception: {e}\")\n",
    "finally:\n",
    "    print(\"Finally block executed.\")\n"
   ]
  },
  {
   "cell_type": "code",
   "execution_count": 9,
   "id": "af6bf8f6-d7ed-47c5-8fc3-f67ba3511fd3",
   "metadata": {},
   "outputs": [
    {
     "name": "stdout",
     "output_type": "stream",
     "text": [
      "Exception: Division by zero is not allowed\n"
     ]
    }
   ],
   "source": [
    "def divide(x, y):\n",
    "    if y == 0:\n",
    "        raise ValueError(\"Division by zero is not allowed\")\n",
    "    return x / y\n",
    "\n",
    "try:\n",
    "    result = divide(10, 0)\n",
    "except ValueError as e:\n",
    "    print(f\"Exception: {e}\")\n",
    "else:\n",
    "    print(f\"Result: {result}\")\n"
   ]
  },
  {
   "cell_type": "code",
   "execution_count": null,
   "id": "db989805-0376-4d61-a69e-607045ee6860",
   "metadata": {},
   "outputs": [],
   "source": [
    "Q5. What are Custom Exceptions in python? Why do we need Custom Exceptions? Explain withan example"
   ]
  },
  {
   "cell_type": "code",
   "execution_count": null,
   "id": "ca533e6d-b228-4825-8a60-fee4159d52bb",
   "metadata": {},
   "outputs": [],
   "source": [
    "In Python, custom exceptions, also known as user-defined exceptions, are exceptions that you create yourself by defining a new exception class. These exceptions extend the built-in exception classes and allow you to define your own error types to handle specific exceptional conditions in your code."
   ]
  },
  {
   "cell_type": "code",
   "execution_count": null,
   "id": "dac7c912-e554-4c74-9d6e-883540c09f0f",
   "metadata": {},
   "outputs": [],
   "source": [
    "Clearer Code:\n",
    "Better Debugging:\n",
    "Structured Error Handling    "
   ]
  },
  {
   "cell_type": "code",
   "execution_count": 10,
   "id": "a0741e11-da40-4a85-9865-8585bae200c0",
   "metadata": {},
   "outputs": [
    {
     "name": "stdout",
     "output_type": "stream",
     "text": [
      "Custom Exception: Negative value (-9) is not allowed.\n"
     ]
    }
   ],
   "source": [
    "# Define a custom exception class by inheriting from the built-in Exception class\n",
    "class NegativeValueError(Exception):\n",
    "    def __init__(self, value):\n",
    "        self.value = value\n",
    "        super().__init__(f\"Negative value ({self.value}) is not allowed.\")\n",
    "\n",
    "def calculate_square_root(number):\n",
    "    if number < 0:\n",
    "        # Raise a custom exception if the number is negative\n",
    "        raise NegativeValueError(number)\n",
    "    return number ** 0.5\n",
    "\n",
    "try:\n",
    "    result = calculate_square_root(-9)\n",
    "except NegativeValueError as e:\n",
    "    print(f\"Custom Exception: {e}\")\n",
    "else:\n",
    "    print(f\"Square root: {result}\")\n"
   ]
  },
  {
   "cell_type": "code",
   "execution_count": null,
   "id": "28b089e6-f887-4f4b-b203-34421b531365",
   "metadata": {},
   "outputs": [],
   "source": [
    "Q6. Create a custom exception class. Use this class to handlean exception."
   ]
  }
 ],
 "metadata": {
  "kernelspec": {
   "display_name": "Python 3 (ipykernel)",
   "language": "python",
   "name": "python3"
  },
  "language_info": {
   "codemirror_mode": {
    "name": "ipython",
    "version": 3
   },
   "file_extension": ".py",
   "mimetype": "text/x-python",
   "name": "python",
   "nbconvert_exporter": "python",
   "pygments_lexer": "ipython3",
   "version": "3.10.6"
  }
 },
 "nbformat": 4,
 "nbformat_minor": 5
}
